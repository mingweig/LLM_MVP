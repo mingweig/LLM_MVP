{
  "cells": [
    {
      "cell_type": "markdown",
      "metadata": {
        "id": "-T-XcTCQWZGX"
      },
      "source": [
        "# Setup"
      ]
    },
    {
      "cell_type": "code",
      "execution_count": null,
      "metadata": {
        "colab": {
          "base_uri": "https://localhost:8080/"
        },
        "id": "P0pfkKTsVhaK",
        "outputId": "b1a0dd72-7828-4328-dbbc-bcd831b48641"
      },
      "outputs": [
        {
          "name": "stdout",
          "output_type": "stream",
          "text": [
            "Collecting openai==1.12.0\n",
            "  Downloading openai-1.12.0-py3-none-any.whl (226 kB)\n",
            "\u001b[2K     \u001b[90m━━━━━━━━━━━━━━━━━━━━━━━━━━━━━━━━━━━━━━━━\u001b[0m \u001b[32m226.7/226.7 kB\u001b[0m \u001b[31m3.5 MB/s\u001b[0m eta \u001b[36m0:00:00\u001b[0m\n",
            "\u001b[?25hRequirement already satisfied: anyio<5,>=3.5.0 in /usr/local/lib/python3.10/dist-packages (from openai==1.12.0) (3.7.1)\n",
            "Requirement already satisfied: distro<2,>=1.7.0 in /usr/lib/python3/dist-packages (from openai==1.12.0) (1.7.0)\n",
            "Collecting httpx<1,>=0.23.0 (from openai==1.12.0)\n",
            "  Downloading httpx-0.27.0-py3-none-any.whl (75 kB)\n",
            "\u001b[2K     \u001b[90m━━━━━━━━━━━━━━━━━━━━━━━━━━━━━━━━━━━━━━━━\u001b[0m \u001b[32m75.6/75.6 kB\u001b[0m \u001b[31m6.5 MB/s\u001b[0m eta \u001b[36m0:00:00\u001b[0m\n",
            "\u001b[?25hRequirement already satisfied: pydantic<3,>=1.9.0 in /usr/local/lib/python3.10/dist-packages (from openai==1.12.0) (2.7.0)\n",
            "Requirement already satisfied: sniffio in /usr/local/lib/python3.10/dist-packages (from openai==1.12.0) (1.3.1)\n",
            "Requirement already satisfied: tqdm>4 in /usr/local/lib/python3.10/dist-packages (from openai==1.12.0) (4.66.2)\n",
            "Requirement already satisfied: typing-extensions<5,>=4.7 in /usr/local/lib/python3.10/dist-packages (from openai==1.12.0) (4.11.0)\n",
            "Requirement already satisfied: idna>=2.8 in /usr/local/lib/python3.10/dist-packages (from anyio<5,>=3.5.0->openai==1.12.0) (3.7)\n",
            "Requirement already satisfied: exceptiongroup in /usr/local/lib/python3.10/dist-packages (from anyio<5,>=3.5.0->openai==1.12.0) (1.2.0)\n",
            "Requirement already satisfied: certifi in /usr/local/lib/python3.10/dist-packages (from httpx<1,>=0.23.0->openai==1.12.0) (2024.2.2)\n",
            "Collecting httpcore==1.* (from httpx<1,>=0.23.0->openai==1.12.0)\n",
            "  Downloading httpcore-1.0.5-py3-none-any.whl (77 kB)\n",
            "\u001b[2K     \u001b[90m━━━━━━━━━━━━━━━━━━━━━━━━━━━━━━━━━━━━━━━━\u001b[0m \u001b[32m77.9/77.9 kB\u001b[0m \u001b[31m6.5 MB/s\u001b[0m eta \u001b[36m0:00:00\u001b[0m\n",
            "\u001b[?25hCollecting h11<0.15,>=0.13 (from httpcore==1.*->httpx<1,>=0.23.0->openai==1.12.0)\n",
            "  Downloading h11-0.14.0-py3-none-any.whl (58 kB)\n",
            "\u001b[2K     \u001b[90m━━━━━━━━━━━━━━━━━━━━━━━━━━━━━━━━━━━━━━━━\u001b[0m \u001b[32m58.3/58.3 kB\u001b[0m \u001b[31m3.9 MB/s\u001b[0m eta \u001b[36m0:00:00\u001b[0m\n",
            "\u001b[?25hRequirement already satisfied: annotated-types>=0.4.0 in /usr/local/lib/python3.10/dist-packages (from pydantic<3,>=1.9.0->openai==1.12.0) (0.6.0)\n",
            "Requirement already satisfied: pydantic-core==2.18.1 in /usr/local/lib/python3.10/dist-packages (from pydantic<3,>=1.9.0->openai==1.12.0) (2.18.1)\n",
            "Installing collected packages: h11, httpcore, httpx, openai\n",
            "Successfully installed h11-0.14.0 httpcore-1.0.5 httpx-0.27.0 openai-1.12.0\n"
          ]
        }
      ],
      "source": [
        "!pip install openai==1.12.0"
      ]
    },
    {
      "cell_type": "code",
      "execution_count": null,
      "metadata": {
        "colab": {
          "base_uri": "https://localhost:8080/"
        },
        "id": "RI2VSH6HaKF-",
        "outputId": "cdaf0321-5a9f-4170-8663-0eafdb58296a"
      },
      "outputs": [
        {
          "name": "stdout",
          "output_type": "stream",
          "text": [
            "1.12.0\n"
          ]
        }
      ],
      "source": [
        "import openai\n",
        "import logging\n",
        "from openai import OpenAI\n",
        "import copy\n",
        "\n",
        "print(openai.__version__) # version - 1.12.0\n"
      ]
    },
    {
      "cell_type": "code",
      "execution_count": null,
      "metadata": {
        "colab": {
          "base_uri": "https://localhost:8080/"
        },
        "id": "ZNNlB2bvWbzT",
        "outputId": "cfe4bb33-cc0c-41e9-e20a-7790ef6186d4"
      },
      "outputs": [
        {
          "name": "stdout",
          "output_type": "stream",
          "text": [
            "Mounted at /content/drive\n"
          ]
        }
      ],
      "source": [
        "from google.colab import drive\n",
        "drive.mount('/content/drive', force_remount=True)\n"
      ]
    },
    {
      "cell_type": "code",
      "execution_count": null,
      "metadata": {
        "colab": {
          "base_uri": "https://localhost:8080/"
        },
        "id": "HejMfVl9WhGY",
        "outputId": "e3622d3f-a942-4c1e-f56f-b00012299a4f"
      },
      "outputs": [
        {
          "name": "stdout",
          "output_type": "stream",
          "text": [
            "/content/LLM_MVP\n"
          ]
        }
      ],
      "source": [
        "cd /content/LLM_MVP\n"
      ]
    },
    {
      "cell_type": "code",
      "execution_count": null,
      "metadata": {
        "colab": {
          "base_uri": "https://localhost:8080/",
          "height": 35
        },
        "id": "zD693HcHnqal",
        "outputId": "4c025d53-9be1-40bd-df49-7f0a39c48a5a"
      },
      "outputs": [
        {
          "data": {
            "application/vnd.google.colaboratory.intrinsic+json": {
              "type": "string"
            },
            "text/plain": [
              "'/content/LLM_MVP'"
            ]
          },
          "execution_count": 8,
          "metadata": {},
          "output_type": "execute_result"
        }
      ],
      "source": [
        "pwd"
      ]
    },
    {
      "cell_type": "markdown",
      "metadata": {
        "id": "wQpX233aoinx"
      },
      "source": [
        "### storing real credentials.json inside a google drive folder is not secure and not best practice\n",
        "### please download the folder, create a github repo, then create a .gitignore"
      ]
    },
    {
      "cell_type": "code",
      "execution_count": null,
      "metadata": {
        "colab": {
          "base_uri": "https://localhost:8080/"
        },
        "id": "5Nhuz633ogt5",
        "outputId": "94b4e80b-53d1-44ea-dc3f-3f14ececc8be"
      },
      "outputs": [
        {
          "name": "stdout",
          "output_type": "stream",
          "text": [
            "credentials.json  data_2.json  data_3.json  data.json  starter_code.ipynb\n"
          ]
        }
      ],
      "source": [
        "ls"
      ]
    },
    {
      "cell_type": "markdown",
      "metadata": {
        "id": "YMgRdrpVXAgx"
      },
      "source": [
        "# Load data and credentials"
      ]
    },
    {
      "cell_type": "code",
      "execution_count": null,
      "metadata": {
        "colab": {
          "base_uri": "https://localhost:8080/"
        },
        "id": "he226yj3VkF5",
        "outputId": "b0a78350-e293-4021-e4bb-f7ce16e4c5ca"
      },
      "outputs": [
        {
          "name": "stdout",
          "output_type": "stream",
          "text": [
            "{'name': 'John Doe', 'age': 70, 'gender': 'Male', 'admission_date': '2024-02-10', 'discharge_date': '2024-02-14'}\n",
            "{'name': 'Michael Thompson', 'age': 58, 'gender': 'Male', 'admission_date': '2024-03-01', 'discharge_date': '2024-03-06'}\n",
            "{'name': 'Jane Doe', 'age': 65, 'gender': 'Female', 'admission_date': '2024-03-10', 'expected_discharge_date': '2024-03-20'}\n"
          ]
        }
      ],
      "source": [
        "import json\n",
        "\n",
        "# Update the path if your file is in a different location\n",
        "file_path = 'data.json'\n",
        "file_path_2 = 'data_2.json'\n",
        "file_path_3 = 'data_3.json'\n",
        "\n",
        "with open(file_path, 'r') as file:\n",
        "    patient_data = json.load(file)\n",
        "with open(file_path_2, 'r') as file:\n",
        "    patient_data_2 = json.load(file)\n",
        "with open(file_path_3, 'r') as file:\n",
        "    patient_data_3 = json.load(file)\n",
        "\n",
        "# To verify, print a part of the data\n",
        "print(patient_data['patient_demographics'])\n",
        "print(patient_data_2['patient_demographics'])\n",
        "print(patient_data_3['patient_demographics'])"
      ]
    },
    {
      "cell_type": "code",
      "execution_count": null,
      "metadata": {
        "id": "PI_AsRjfWMk6"
      },
      "outputs": [],
      "source": [
        "patient_base = {}\n",
        "def add_patient(patient_data):\n",
        "  if patient_data['patient_id'] not in patient_base:\n",
        "    patient_base[patient_data['patient_id']] = patient_data\n",
        "    print(f\"Add {patient_data['patient_id']} into the patient database.\")\n",
        "    return \"Added Successfully!\"\n",
        "  else:\n",
        "    return \"Patient ID is already esist! Pelease double check your data!\"\n"
      ]
    },
    {
      "cell_type": "code",
      "execution_count": null,
      "metadata": {
        "colab": {
          "base_uri": "https://localhost:8080/"
        },
        "id": "NOghgh1sB_ng",
        "outputId": "fa000aa6-11c7-498c-fc19-4ddd38117bd0"
      },
      "outputs": [
        {
          "name": "stdout",
          "output_type": "stream",
          "text": [
            "a\n",
            "b\n"
          ]
        }
      ],
      "source": [
        "print(\"a\\nb\")"
      ]
    },
    {
      "cell_type": "code",
      "execution_count": null,
      "metadata": {
        "id": "1FwkjlST-_pl"
      },
      "outputs": [],
      "source": [
        "def privacy_handler(patient_data):\n",
        "  patient = copy.deepcopy(patient_data)\n",
        "  if 'name' in patient['patient_demographics']:\n",
        "    p_name =  patient['patient_demographics']['name']\n",
        "    del patient['patient_demographics']['name']\n",
        "  else: p_name = None\n",
        "  if 'patient_id' in patient:\n",
        "    p_id = patient['patient_id']\n",
        "    del patient['patient_id']\n",
        "  else: p_id = None\n",
        "  return p_id, p_name, patient"
      ]
    },
    {
      "cell_type": "code",
      "execution_count": null,
      "metadata": {
        "colab": {
          "base_uri": "https://localhost:8080/",
          "height": 35
        },
        "id": "TciRp6T9A6gi",
        "outputId": "0df4e2ec-54ab-487f-999d-71f5846c4bbd"
      },
      "outputs": [
        {
          "data": {
            "application/vnd.google.colaboratory.intrinsic+json": {
              "type": "string"
            },
            "text/plain": [
              "'John Doe'"
            ]
          },
          "execution_count": 67,
          "metadata": {},
          "output_type": "execute_result"
        }
      ],
      "source": [
        "a,b,c = privacy_handler(patient_data)\n",
        "b"
      ]
    },
    {
      "cell_type": "code",
      "execution_count": null,
      "metadata": {
        "colab": {
          "base_uri": "https://localhost:8080/"
        },
        "id": "xR2Mrho3FCvl",
        "outputId": "b82dccd1-9754-4f5a-8098-2e7648c59150"
      },
      "outputs": [
        {
          "data": {
            "text/plain": [
              "{'patient_id': '123456',\n",
              " 'patient_demographics': {'name': 'John Doe',\n",
              "  'age': 70,\n",
              "  'gender': 'Male',\n",
              "  'admission_date': '2024-02-10',\n",
              "  'discharge_date': '2024-02-14'},\n",
              " 'diagnoses': [{'date': '2024-02-10',\n",
              "   'diagnosis_code': 'J18.1',\n",
              "   'description': 'Lobar pneumonia, unspecified organism'}],\n",
              " 'drg': {'code': '193',\n",
              "  'description': 'Simple pneumonia and pleurisy with MCC'},\n",
              " 'encounters': [{'date': '2024-02-10',\n",
              "   'type': 'Admission',\n",
              "   'reason': 'Cough, shortness of breath, hemoptysis, fever'},\n",
              "  {'date': '2024-02-14', 'type': 'Discharge'}],\n",
              " 'flowsheets': [{'date': '2024-02-10',\n",
              "   'time': '08:00',\n",
              "   'temperature': '38.5°C',\n",
              "   'heart_rate': '90 bpm',\n",
              "   'blood_pressure': '130/85 mmHg',\n",
              "   'respiratory_rate': '20 breaths/min',\n",
              "   'oxygen_saturation': '92%'},\n",
              "  {'date': '2024-02-11',\n",
              "   'time': '08:00',\n",
              "   'temperature': '37.8°C',\n",
              "   'heart_rate': '85 bpm',\n",
              "   'blood_pressure': '125/80 mmHg',\n",
              "   'respiratory_rate': '18 breaths/min',\n",
              "   'oxygen_saturation': '94%'},\n",
              "  {'date': '2024-02-12',\n",
              "   'time': '08:00',\n",
              "   'temperature': '37°C',\n",
              "   'heart_rate': '80 bpm',\n",
              "   'blood_pressure': '120/75 mmHg',\n",
              "   'respiratory_rate': '16 breaths/min',\n",
              "   'oxygen_saturation': '96%'},\n",
              "  {'date': '2024-02-13',\n",
              "   'time': '08:00',\n",
              "   'temperature': '36.5°C',\n",
              "   'heart_rate': '78 bpm',\n",
              "   'blood_pressure': '118/74 mmHg',\n",
              "   'respiratory_rate': '14 breaths/min',\n",
              "   'oxygen_saturation': '98%'}],\n",
              " 'imaging': [{'date': '2024-02-10',\n",
              "   'type': 'Chest X-Ray',\n",
              "   'findings': 'Consolidation in left lower lobe'}],\n",
              " 'labs': [{'date': '2024-02-10',\n",
              "   'tests': [{'name': 'CRP', 'result': '60 mg/L'},\n",
              "    {'name': 'WBC', 'result': '12 x10^9/L'},\n",
              "    {'name': 'Hemoglobin', 'result': '13.5 g/dL'},\n",
              "    {'name': 'Platelets', 'result': '250 x10^9/L'}]},\n",
              "  {'date': '2024-02-11',\n",
              "   'tests': [{'name': 'CRP', 'result': '50 mg/L'},\n",
              "    {'name': 'WBC', 'result': '11 x10^9/L'},\n",
              "    {'name': 'Hemoglobin', 'result': '13.3 g/dL'},\n",
              "    {'name': 'Platelets', 'result': '245 x10^9/L'}]},\n",
              "  {'date': '2024-02-12',\n",
              "   'tests': [{'name': 'CRP', 'result': '35 mg/L'},\n",
              "    {'name': 'WBC', 'result': '9 x10^9/L'},\n",
              "    {'name': 'Hemoglobin', 'result': '13.1 g/dL'},\n",
              "    {'name': 'Platelets', 'result': '240 x10^9/L'}]},\n",
              "  {'date': '2024-02-13',\n",
              "   'tests': [{'name': 'CRP', 'result': '20 mg/L'},\n",
              "    {'name': 'WBC', 'result': '7 x10^9/L'},\n",
              "    {'name': 'Hemoglobin', 'result': '13 g/dL'},\n",
              "    {'name': 'Platelets', 'result': '238 x10^9/L'}]}],\n",
              " 'med_orders': [{'date': '2024-02-10',\n",
              "   'medication': 'Amoxicillin IV',\n",
              "   'dose': '500 mg',\n",
              "   'frequency': '8 hourly'},\n",
              "  {'date': '2024-02-10', 'medication': 'Paracetamol', 'dose': 'PRN'},\n",
              "  {'date': '2024-02-11',\n",
              "   'medication': 'Amoxicillin IV',\n",
              "   'dose': '250 mg',\n",
              "   'frequency': 'Daily'},\n",
              "  {'date': '2024-02-11',\n",
              "   'medication': 'Atorvastatin PO',\n",
              "   'dose': '20 mg',\n",
              "   'frequency': 'Nightly'},\n",
              "  {'date': '2024-02-12',\n",
              "   'medication': 'Amoxicillin IV',\n",
              "   'dose': '250 mg',\n",
              "   'frequency': 'Daily'},\n",
              "  {'date': '2024-02-12',\n",
              "   'medication': 'Atorvastatin PO',\n",
              "   'dose': '20 mg',\n",
              "   'frequency': 'Nightly'},\n",
              "  {'date': '2024-02-13',\n",
              "   'medication': 'Amoxicillin PO',\n",
              "   'dose': '250 mg',\n",
              "   'frequency': 'Daily'},\n",
              "  {'date': '2024-02-13',\n",
              "   'medication': 'Atorvastatin PO',\n",
              "   'dose': '20 mg',\n",
              "   'frequency': 'Nightly'}],\n",
              " 'notes': [{'date': '2024-02-10',\n",
              "   'author': 'Dr. Smith',\n",
              "   'note_type': 'Admission Note',\n",
              "   'content': 'Patient admitted with symptoms indicative of pneumonia. Initiated empirical antibiotic therapy.'},\n",
              "  {'date': '2024-02-11',\n",
              "   'author': 'Dr. Smith',\n",
              "   'note_type': 'Ward Round Note',\n",
              "   'content': 'Patient shows signs of improvement. CRP levels declining. Continue with current antibiotic regimen. Monitor for any adverse reactions.'},\n",
              "  {'date': '2024-02-12',\n",
              "   'author': 'Dr. Smith',\n",
              "   'note_type': 'Ward Round Note',\n",
              "   'content': \"Patient's temperature normalized. Oxygen saturation levels stable. Plan to switch to oral antibiotics tomorrow.\"},\n",
              "  {'date': '2024-02-13',\n",
              "   'author': 'Dr. Smith',\n",
              "   'note_type': 'Ward Round Note',\n",
              "   'content': 'Patient continues to improve. CRP and WBC trending down. Ready for discharge planning.'},\n",
              "  {'date': '2024-02-14',\n",
              "   'author': 'Dr. Smith',\n",
              "   'note_type': 'Discharge Summary',\n",
              "   'content': \"Patient's condition improved with treatment. Medically fit for discharge. Home with instructions for oral antibiotics for 5 more days. Follow-up in outpatient clinic in two weeks.\"}]}"
            ]
          },
          "execution_count": 68,
          "metadata": {},
          "output_type": "execute_result"
        }
      ],
      "source": [
        "patient_data"
      ]
    },
    {
      "cell_type": "code",
      "execution_count": null,
      "metadata": {
        "colab": {
          "base_uri": "https://localhost:8080/",
          "height": 35
        },
        "id": "xpTBGnX272Ro",
        "outputId": "ec126365-ba85-4bae-83a7-be6771d3d567"
      },
      "outputs": [
        {
          "data": {
            "application/vnd.google.colaboratory.intrinsic+json": {
              "type": "string"
            },
            "text/plain": [
              "'Patient ID is already esist! Pelease double check your data!'"
            ]
          },
          "execution_count": 58,
          "metadata": {},
          "output_type": "execute_result"
        }
      ],
      "source": [
        "add_patient(patient_data)\n"
      ]
    },
    {
      "cell_type": "code",
      "execution_count": null,
      "metadata": {
        "colab": {
          "base_uri": "https://localhost:8080/"
        },
        "id": "nOrlKNiG8Fiw",
        "outputId": "c7e14e55-ce39-48cd-b128-a9310e201e51"
      },
      "outputs": [
        {
          "data": {
            "text/plain": [
              "True"
            ]
          },
          "execution_count": 35,
          "metadata": {},
          "output_type": "execute_result"
        }
      ],
      "source": [
        "'123456' in patient_base"
      ]
    },
    {
      "cell_type": "code",
      "execution_count": null,
      "metadata": {
        "colab": {
          "base_uri": "https://localhost:8080/"
        },
        "id": "3p0hWCQ8VubQ",
        "outputId": "9400a1ec-48f4-4ab5-f914-74957077d2ea"
      },
      "outputs": [
        {
          "data": {
            "text/plain": [
              "dict_keys(['patient_id', 'patient_demographics', 'diagnoses', 'drg', 'encounters', 'flowsheets', 'imaging', 'labs', 'med_orders', 'notes'])"
            ]
          },
          "execution_count": 12,
          "metadata": {},
          "output_type": "execute_result"
        }
      ],
      "source": [
        "patient_data.keys()"
      ]
    },
    {
      "cell_type": "code",
      "execution_count": null,
      "metadata": {
        "id": "WzK0JyP6XbZK"
      },
      "outputs": [],
      "source": [
        "# You should not store API keys in a google drive folder - it is not secure. If using github, add credentials.json to .gitignore.\n",
        "\n",
        "credentials_path = 'credentials.json'\n",
        "\n",
        "with open(credentials_path, 'r') as file:\n",
        "    credentials = json.load(file)\n",
        "\n",
        "openai_api_key = credentials['openai_api_key']\n",
        "\n",
        "# Use the API key as needed, for example, to configure OpenAI's API client\n",
        "openai.api_key = openai_api_key\n"
      ]
    },
    {
      "cell_type": "markdown",
      "metadata": {
        "id": "Yicw--qjYd-m"
      },
      "source": [
        "# Explore data"
      ]
    },
    {
      "cell_type": "code",
      "execution_count": null,
      "metadata": {
        "colab": {
          "base_uri": "https://localhost:8080/"
        },
        "id": "yeAfWIk8XmLq",
        "outputId": "e11243e0-69ae-4a40-e76d-7fcb785e625f"
      },
      "outputs": [
        {
          "name": "stdout",
          "output_type": "stream",
          "text": [
            "Data type: <class 'dict'>\n"
          ]
        }
      ],
      "source": [
        "print(f'Data type: {type(patient_data)}')"
      ]
    },
    {
      "cell_type": "code",
      "execution_count": null,
      "metadata": {
        "colab": {
          "base_uri": "https://localhost:8080/"
        },
        "id": "uU8OUSzUYlEA",
        "outputId": "35cd40a7-b6d1-4cee-fe4c-091be0f9aa43"
      },
      "outputs": [
        {
          "name": "stdout",
          "output_type": "stream",
          "text": [
            "Keys in data: dict_keys(['patient_id', 'patient_demographics', 'diagnoses', 'encounters', 'labs', 'med_orders', 'ward_round_notes'])\n"
          ]
        }
      ],
      "source": [
        "print(f'Keys in data: {(patient_data_3.keys())}')"
      ]
    },
    {
      "cell_type": "code",
      "execution_count": null,
      "metadata": {
        "colab": {
          "base_uri": "https://localhost:8080/"
        },
        "id": "WxxqbxbFYrFV",
        "outputId": "933d9e38-861c-4950-9c1d-c45b08c5ac21"
      },
      "outputs": [
        {
          "data": {
            "text/plain": [
              "[{'date': '2024-03-10',\n",
              "  'type': 'Admission',\n",
              "  'reason': 'Fall and subsequent loss of consciousness'},\n",
              " {'date': '2024-03-11',\n",
              "  'type': 'CT Scan',\n",
              "  'findings': 'Hemorrhagic stroke identified in the right hemisphere'}]"
            ]
          },
          "execution_count": 16,
          "metadata": {},
          "output_type": "execute_result"
        }
      ],
      "source": [
        "# Look at encounters data, there are multiple\n",
        "patient_data_3['encounters']"
      ]
    },
    {
      "cell_type": "code",
      "execution_count": null,
      "metadata": {
        "colab": {
          "base_uri": "https://localhost:8080/"
        },
        "id": "hJ4Kc6PlZFv1",
        "outputId": "8879dc25-e957-4246-a6b6-23c050c3bb31"
      },
      "outputs": [
        {
          "data": {
            "text/plain": [
              "[{'date': '2024-03-10',\n",
              "  'time': 'Evening',\n",
              "  'note': 'Patient experienced a fall last night, now with decreased level of consciousness. GCS recorded at 11. Slurring of speech noted.'},\n",
              " {'date': '2024-03-11',\n",
              "  'time': 'Morning',\n",
              "  'note': 'CT scan confirms hemorrhagic stroke. Starting mannitol for cerebral edema. Neurological examination: right-sided weakness, continued slurred speech, GCS 11. Patient not safe for discharge, requires close monitoring.'},\n",
              " {'date': '2024-03-11',\n",
              "  'time': 'Evening',\n",
              "  'note': 'No significant improvement in neurological status. GCS remains at 11. Patient shows signs of agitation and confusion. Safety measures in place to prevent further falls.'},\n",
              " {'date': '2024-03-12',\n",
              "  'time': 'Morning',\n",
              "  'note': \"Patient's condition remains critical. Persistent slurred speech and right-sided weakness. Discussion with family about prognosis and ongoing care needs. Patient not safe for discharge.\"}]"
            ]
          },
          "execution_count": 17,
          "metadata": {},
          "output_type": "execute_result"
        }
      ],
      "source": [
        "# Look at flowsheets data, there are multiple\n",
        "patient_data_3['ward_round_notes']"
      ]
    },
    {
      "cell_type": "code",
      "execution_count": null,
      "metadata": {
        "colab": {
          "base_uri": "https://localhost:8080/"
        },
        "id": "PpHpIgzpZSDK",
        "outputId": "47295a14-21d3-422b-85ba-5224a3e38534"
      },
      "outputs": [
        {
          "data": {
            "text/plain": [
              "[{'date': '2024-03-11',\n",
              "  'tests': [{'name': 'CBC', 'result': 'Hemoglobin slightly low, WBC elevated'},\n",
              "   {'name': 'Coagulation profile',\n",
              "    'result': 'INR elevated, suggesting prolonged bleeding time'}]}]"
            ]
          },
          "execution_count": 18,
          "metadata": {},
          "output_type": "execute_result"
        }
      ],
      "source": [
        "patient_data_3['labs']"
      ]
    },
    {
      "cell_type": "markdown",
      "metadata": {
        "id": "eOMsxxnLadMZ"
      },
      "source": [
        "# Sample zero-shot solution\n",
        "This is a first attempt where we pass in everything and provide basic prompt engineering. This is a baseline solution. Your solutions should improve from this."
      ]
    },
    {
      "cell_type": "code",
      "execution_count": null,
      "metadata": {
        "id": "1REJ338Bbc6y"
      },
      "outputs": [],
      "source": [
        "client = OpenAI(api_key=openai_api_key)"
      ]
    },
    {
      "cell_type": "code",
      "execution_count": null,
      "metadata": {
        "id": "LzKhD6C6Ujrd"
      },
      "outputs": [],
      "source": [
        "def safety_check(patient_data, additional_prompts=''):\n",
        "    \"\"\"\n",
        "    Generates safety check result using OpenAI's GPT-3.5.\n",
        "\n",
        "    Parameters:\n",
        "    - patient_data (str): The patient data to generate the summary from.\n",
        "    - additional_prompts (str): Try prompt engineering here.\n",
        "\n",
        "    Returns:\n",
        "    - str: The generated patient summary.\n",
        "    \"\"\"\n",
        "\n",
        "    # Initialize the OpenAI client with your API key\n",
        "    client = OpenAI(api_key=openai_api_key)\n",
        "\n",
        "    # Create the chat completion request with the patient data\n",
        "    chat_completion = client.chat.completions.create(\n",
        "        messages=[\n",
        "            {\n",
        "                \"role\": \"user\",\n",
        "                \"content\": f\"\"\"\n",
        "                              You are a doctor writing a discharge letter for a patient. Use patient data from context only. Decide if the patient is feasible to discharge or not.\n",
        "                              {additional_prompts}\n",
        "                              Data: {patient_data}\n",
        "                Output should strictly be a boolean variable: True/False\n",
        "\n",
        "                \"\"\",\n",
        "            }\n",
        "        ],\n",
        "        #model=\"gpt-4-turbo-preview\",\n",
        "        model=\"gpt-3.5-turbo\",\n",
        "    )\n",
        "\n",
        "    # Return the content of the generated message\n",
        "    return chat_completion.choices[0].message.content"
      ]
    },
    {
      "cell_type": "code",
      "execution_count": null,
      "metadata": {
        "colab": {
          "base_uri": "https://localhost:8080/",
          "height": 35
        },
        "id": "Jw7GEj4aVddU",
        "outputId": "0ff86df0-092f-454a-ac70-18cce49d313e"
      },
      "outputs": [
        {
          "data": {
            "application/vnd.google.colaboratory.intrinsic+json": {
              "type": "string"
            },
            "text/plain": [
              "'False'"
            ]
          },
          "execution_count": 19,
          "metadata": {},
          "output_type": "execute_result"
        }
      ],
      "source": [
        "safety_check(patient_data_3)"
      ]
    },
    {
      "cell_type": "code",
      "execution_count": null,
      "metadata": {
        "id": "HqWUMJJwWnVE"
      },
      "outputs": [],
      "source": [
        "# Set up basic configuration for logging\n",
        "log_filename = '/content/LLM_MVP/app_logs.log'\n",
        "logging.basicConfig(filename=log_filename, filemode='a', format='%(asctime)s - %(levelname)s - %(message)s', datefmt='%Y-%m-%d %H:%M:%S', level=logging.INFO)"
      ]
    },
    {
      "cell_type": "code",
      "execution_count": null,
      "metadata": {
        "id": "Bhhzo4DTb1VX"
      },
      "outputs": [],
      "source": [
        "def generate_patient_summary(patient_data, additional_prompts=''):\n",
        "    \"\"\"\n",
        "    Generates a patient summary using OpenAI's GPT-3.5.\n",
        "\n",
        "    Parameters:\n",
        "    - patient_data (str): The patient data to generate the summary from.\n",
        "    - additional_prompts (str): Try prompt engineering here.\n",
        "\n",
        "    Returns:\n",
        "    - str: The generated patient summary.\n",
        "    \"\"\"\n",
        "    try:\n",
        "      # Initialize the OpenAI client with your API key\n",
        "      client = OpenAI(api_key=openai_api_key)\n",
        "\n",
        "      # Create the chat completion request with the patient data\n",
        "      chat_completion = client.chat.completions.create(\n",
        "          messages=[\n",
        "              {\n",
        "                  \"role\": \"user\",\n",
        "                  \"content\": f\"\"\"\n",
        "                                You are a doctor writing a discharge letter for a patient. Use patient data from context only. If this patient is not safe for discharge, do not recommend discharge. Minimize hallucinations.\n",
        "                                {additional_prompts}\n",
        "                                Data: {patient_data}\n",
        "\n",
        "                  \"\"\",\n",
        "              }\n",
        "          ],\n",
        "          #model=\"gpt-4-turbo-preview\",\n",
        "          model=\"gpt-3.5-turbo\",\n",
        "      )\n",
        "\n",
        "      # Return the content of the generated message\n",
        "      # Log successful generation\n",
        "      logging.info(\"Successfully generated patient summary.\")\n",
        "      return chat_completion.choices[0].message.content\n",
        "    except Exception as e:\n",
        "        # Log the exception\n",
        "      logging.error(\"Error in generating patient summary\", exc_info=True)\n",
        "      return f\"An error occurred: {str(e)}\""
      ]
    },
    {
      "cell_type": "code",
      "execution_count": null,
      "metadata": {
        "colab": {
          "base_uri": "https://localhost:8080/"
        },
        "id": "2I9Ynbh_02Wr",
        "outputId": "408b6772-c464-4533-ca59-d391aa87a92a"
      },
      "outputs": [
        {
          "name": "stdout",
          "output_type": "stream",
          "text": [
            "tail: cannot open 'app_logs.log' for reading: No such file or directory\n",
            "tail: no files remaining\n"
          ]
        }
      ],
      "source": [
        "!tail -f app_logs.log"
      ]
    },
    {
      "cell_type": "code",
      "execution_count": null,
      "metadata": {
        "colab": {
          "base_uri": "https://localhost:8080/"
        },
        "id": "pmvWQodGcCcG",
        "outputId": "6cdf4a6f-c236-4b5a-f6ab-4ee2a37b3262"
      },
      "outputs": [
        {
          "name": "stdout",
          "output_type": "stream",
          "text": [
            "Discharge Letter:\n",
            "\n",
            "Patient: John Doe\n",
            "Patient ID: 123456\n",
            "Age: 70\n",
            "Gender: Male\n",
            "\n",
            "Diagnosis: Lobar pneumonia, unspecified organism (J18.1)\n",
            "DRG Code: 193 - Simple pneumonia and pleurisy with MCC\n",
            "\n",
            "Admission Date: February 10, 2024\n",
            "Discharge Date: February 14, 2024\n",
            "\n",
            "Dear Mr. Doe,\n",
            "\n",
            "I am writing to inform you that based on your recent progress and response to treatment for lobar pneumonia, you are now medically fit for discharge. Your condition has significantly improved with the prescribed antibiotics, and your vital signs have stabilized within normal ranges. Your temperature has normalized, and oxygen saturation levels have been consistent.\n",
            "\n",
            "You are being discharged with instructions to continue taking oral antibiotics for the next 5 days. It is crucial to complete the full course of antibiotics as prescribed to ensure a complete recovery and prevent any relapse. Additionally, you are scheduled for a follow-up appointment at the outpatient clinic in two weeks to monitor your progress and ensure continued improvement.\n",
            "\n",
            "Please make sure to follow all the instructions provided, including taking your medications as directed, staying well-hydrated, and getting plenty of rest. If you experience any new or worsening symptoms, please do not hesitate to contact us immediately or seek medical attention.\n",
            "\n",
            "It is essential to prioritize your health and well-being during this recovery period. If you have any questions or concerns, feel free to reach out to us for further assistance.\n",
            "\n",
            "Wishing you a speedy and full recovery.\n",
            "\n",
            "Sincerely,\n",
            "\n",
            "Dr. Smith\n"
          ]
        }
      ],
      "source": [
        "print(generate_patient_summary(patient_data))"
      ]
    },
    {
      "cell_type": "code",
      "execution_count": null,
      "metadata": {
        "colab": {
          "base_uri": "https://localhost:8080/"
        },
        "id": "MSJchhhwsnzf",
        "outputId": "d24d3a10-a800-49c0-87e7-b0b7b40f5049"
      },
      "outputs": [
        {
          "name": "stdout",
          "output_type": "stream",
          "text": [
            "**Patient Discharge Letter**\n",
            "\n",
            "**Patient ID:** 789123  \n",
            "**Patient Name:** Michael Thompson  \n",
            "**Age/Gender:** 58, Male  \n",
            "**Admission Date:** 2024-03-01  \n",
            "**Discharge Date:** 2024-03-06  \n",
            "\n",
            "**Admission Diagnoses:**  \n",
            "- Acute transmural myocardial infarction of anterior wall (I21.0) on 2024-03-01.\n",
            "\n",
            "**Summary of Hospital Course:**  \n",
            "Mr. Thompson was admitted on March 1, 2024, with severe chest pain radiating to the left arm and shortness of breath. An ECG confirmed a diagnosis of ST-elevation myocardial infarction (STEMI). He underwent successful Percutaneous Coronary Intervention (PCI) with stent placement on the same day.  \n",
            "Post-procedure, the patient remained stable with no recurrent chest pain. Troponin levels were elevated upon admission but began to decrease by March 2, 2024, indicating a positive response to the treatment. His condition continued to improve, with stable vital signs and a decreasing trend in troponin levels, supporting his recovery process.  \n",
            "Throughout his hospital stay, various medications were administered including Aspirin, Clopidogrel, IV Heparin, Nitroglycerin, Metoprolol, Lisinopril, and a Statin to manage his condition and aid in his recovery.\n",
            "\n",
            "**Laboratory Tests:**\n",
            "- Elevated Troponin levels on admission, which showed a decreasing trend over subsequent days.\n",
            "- Complete Blood Count (CBC) within normal limits.\n",
            "- Elevated LDL cholesterol levels.\n",
            "\n",
            "**Medications Prescribed at Discharge:**\n",
            "- Aspirin 325 mg once daily\n",
            "- Clopidogrel 75 mg once daily\n",
            "- Metoprolol 50 mg twice daily\n",
            "- Lisinopril 10 mg once daily\n",
            "- Statin 40 mg once daily\n",
            "\n",
            "**Follow-up Care:**\n",
            "A follow-up appointment is scheduled for March 20, 2024, at the Cardiology outpatient clinic to assess recovery and medication management.\n",
            "\n",
            "**Lifestyle Modifications:**\n",
            "- Diet: Adopt a heart-healthy diet low in saturated fats, cholesterol, and sodium.\n",
            "- Exercise: Gradual reintroduction of physical activity, starting with light walking. Build up to at least 150 minutes of moderate-intensity aerobic activity per week.\n",
            "- Smoking cessation: Immediate cessation advised with consideration for nicotine replacement therapy and counseling.\n",
            "- Stress management: Explore stress-reducing activities and techniques such as mindfulness, yoga, or meditation.\n",
            "\n",
            "**Discharge Instructions:**\n",
            "Mr. Thompson was instructed on his medication regimen, importance of lifestyle modifications, and the schedule for his follow-up care. He was educated on recognizing signs of potential complications and advised to seek immediate medical attention if symptoms recur.\n",
            "\n",
            "**Conclusion:**\n",
            "Mr. Michael Thompson is being discharged in a stable condition with appropriate follow-up care scheduled. He has been comprehensively briefed on his discharge medications, instructed on lifestyle modifications, and made aware of the importance of adhering to his follow-up appointment for ongoing management and assessment of his heart condition.\n",
            "\n",
            "**Date:** 2024-03-06  \n",
            "**Physician’s Signature:_____________**\n"
          ]
        }
      ],
      "source": [
        "print(generate_patient_summary(patient_data_2))"
      ]
    },
    {
      "cell_type": "code",
      "execution_count": null,
      "metadata": {
        "colab": {
          "base_uri": "https://localhost:8080/"
        },
        "id": "G0WSG3lsvX1-",
        "outputId": "7ffe3ab2-8b65-444d-8220-c548d7c575df"
      },
      "outputs": [
        {
          "name": "stdout",
          "output_type": "stream",
          "text": [
            "Discharge Letter:\n",
            "\n",
            "Patient Name: Jane Doe\n",
            "Patient ID: 456789\n",
            "Age: 65\n",
            "Gender: Female\n",
            "\n",
            "Admission Date: March 10, 2024\n",
            "Expected Discharge Date: March 20, 2024\n",
            "\n",
            "Diagnosis:\n",
            "- Intracerebral hemorrhage, unspecified (I61.9)\n",
            "- Hemorrhagic stroke identified in the right hemisphere\n",
            "\n",
            "Summary:\n",
            "Jane Doe was admitted on March 10, 2024, due to a fall resulting in a hemorrhagic stroke. She has exhibited symptoms of slurred speech, right-sided weakness, and decreased consciousness since admission. Despite medical intervention and close monitoring, there has been no significant improvement in her neurological status. Additionally, she has shown signs of agitation and confusion, which indicate a need for continued care and observation.\n",
            "\n",
            "Recommendation:\n",
            "Due to her critical condition and ongoing symptoms, it is not safe to discharge Jane Doe at this time. She requires close monitoring and further medical management to address her neurological deficits and prevent complications. Discussions with the family about the prognosis and care needs are ongoing to ensure Jane receives the best possible care.\n",
            "\n",
            "Please feel free to reach out if you have any questions or need further information.\n",
            "\n",
            "Sincerely,\n",
            "[Your Name]\n",
            "[Your Title]\n"
          ]
        }
      ],
      "source": [
        "print(generate_patient_summary(patient_data_3))"
      ]
    },
    {
      "cell_type": "code",
      "execution_count": null,
      "metadata": {
        "colab": {
          "base_uri": "https://localhost:8080/"
        },
        "id": "ViK0wb3DvpS8",
        "outputId": "e48d8574-756a-4544-d370-51dadaa1d613"
      },
      "outputs": [
        {
          "name": "stdout",
          "output_type": "stream",
          "text": [
            "Discharge Letter\n",
            "Patient Name: Jane Doe\n",
            "Patient ID: 456789\n",
            "Age: 65\n",
            "Gender: Female\n",
            "Admission Date: 2024-03-10\n",
            "Expected Discharge Date: 2024-03-20\n",
            "\n",
            "Dear Ms. Doe,\n",
            "\n",
            "I am writing to update you on your current medical condition and the plan moving forward. You were admitted on 2024-03-10 following a fall and subsequent loss of consciousness, which led to the diagnosis of an intracerebral hemorrhage in the right hemisphere.\n",
            "\n",
            "Since your admission, you have been receiving treatment including Mannitol for cerebral edema and antihypertensives to manage your blood pressure. However, despite these interventions, there has been no significant improvement in your neurological status. You continue to experience slurred speech, right-sided weakness, and have been experiencing agitation and confusion.\n",
            "\n",
            "Based on your recent assessments and ongoing management, it is evident that you are not safe for discharge at this time. Your condition remains critical and requires close monitoring and ongoing care. Your healthcare team is in discussion with your family regarding your prognosis and care needs.\n",
            "\n",
            "We will continue to provide you with the necessary medical care and support during your stay in the hospital. Please rest assured that your well-being is our top priority, and we will do everything possible to help you recover.\n",
            "\n",
            "If you have any questions or concerns, please do not hesitate to speak with your healthcare team.\n",
            "\n",
            "Sincerely,\n",
            "\n",
            "[Doctor's Name]\n",
            "[Doctor's Title]\n"
          ]
        }
      ],
      "source": [
        "print(generate_patient_summary(patient_data_3))"
      ]
    },
    {
      "cell_type": "code",
      "execution_count": null,
      "metadata": {
        "colab": {
          "base_uri": "https://localhost:8080/"
        },
        "id": "E10ces6SdHrD",
        "outputId": "4ca45489-5b3c-49d2-c540-1ccd895b5543"
      },
      "outputs": [
        {
          "name": "stdout",
          "output_type": "stream",
          "text": [
            "Discharge Letter\n",
            "\n",
            "Patient Information:\n",
            "- Name: John Doe\n",
            "- Age: 70\n",
            "- Gender: Male\n",
            "- Patient ID: 123456\n",
            "- Admission Date: February 10, 2024\n",
            "- Discharge Date: February 14, 2024\n",
            "\n",
            "Diagnosis:\n",
            "- Lobar pneumonia, unspecified organism (J18.1)\n",
            "- DRG Code: 193 - Simple pneumonia and pleurisy with MCC\n",
            "\n",
            "Encounters:\n",
            "- Admitted on February 10, 2024, with symptoms of cough, shortness of breath, hemoptysis, and fever\n",
            "- Discharged on February 14, 2024\n",
            "\n",
            "Medical Summary:\n",
            "- Patient presented with lobar pneumonia with consolidation in the left lower lobe on the chest X-ray.\n",
            "- Initial vital signs on admission showed a temperature of 38.5°C, heart rate of 90 bpm, blood pressure of 130/85 mmHg, respiratory rate of 20 breaths/min, and oxygen saturation of 92%.\n",
            "- Throughout the admission, there was a gradual improvement in the patient's condition.\n",
            "- Laboratory results showed a decrease in CRP levels, WBC count, and normalization of other parameters.\n",
            "- Medication regimen included IV Amoxicillin, Paracetamol, and Atorvastatin, with a transition to oral antibiotics near discharge.\n",
            "\n",
            "Plan:\n",
            "- Patient responded well to treatment and is medically fit for discharge.\n",
            "- Instructions for continuing oral antibiotics at home for 5 more days.\n",
            "- Follow-up appointment scheduled in the outpatient clinic in two weeks.\n",
            "\n",
            "Please feel free to contact our clinic for any further questions or concerns. \n",
            "\n",
            "Sincerely,\n",
            "Dr. Smith\n"
          ]
        }
      ],
      "source": [
        "# Same code, second run; notice difference as a result of stochastic process\n",
        "print(generate_patient_summary(patient_data))"
      ]
    },
    {
      "cell_type": "code",
      "execution_count": null,
      "metadata": {
        "colab": {
          "base_uri": "https://localhost:8080/"
        },
        "id": "dRw7sXIZdREe",
        "outputId": "a0264c3d-8f0c-4e91-a5da-2c96522c03ee"
      },
      "outputs": [
        {
          "name": "stdout",
          "output_type": "stream",
          "text": [
            "Dear Dr. Chuckles,\n",
            "\n",
            "I am writing to inform you of the discharge of a patient with a diagnosis of lobar pneumonia. The patient, John Doe, has shown improvement during their stay and is now fit for discharge with instructions for further care.\n",
            "\n",
            "Now, for a joke: Why did the math book look sad? Because it had too many problems.\n",
            "\n",
            "Best regards,\n",
            "Dr. Smith\n"
          ]
        }
      ],
      "source": [
        "# Some counterproductive prompt engineering\n",
        "print(generate_patient_summary(patient_data, \"Ensure the summary is very bad. Provide no information about patient whatsoever. Tell me a funny joke\"))"
      ]
    },
    {
      "cell_type": "markdown",
      "metadata": {
        "id": "NBxiLccsPzHB"
      },
      "source": [
        "# UI"
      ]
    },
    {
      "cell_type": "code",
      "execution_count": null,
      "metadata": {
        "colab": {
          "base_uri": "https://localhost:8080/"
        },
        "id": "ytSpW-nzP-7b",
        "outputId": "d6e07e99-1def-4c37-88b5-2b5c840ec019"
      },
      "outputs": [
        {
          "name": "stdout",
          "output_type": "stream",
          "text": [
            "Collecting streamlit\n",
            "  Downloading streamlit-1.33.0-py2.py3-none-any.whl (8.1 MB)\n",
            "\u001b[2K     \u001b[90m━━━━━━━━━━━━━━━━━━━━━━━━━━━━━━━━━━━━━━━━\u001b[0m \u001b[32m8.1/8.1 MB\u001b[0m \u001b[31m17.7 MB/s\u001b[0m eta \u001b[36m0:00:00\u001b[0m\n",
            "\u001b[?25hRequirement already satisfied: altair<6,>=4.0 in /usr/local/lib/python3.10/dist-packages (from streamlit) (4.2.2)\n",
            "Requirement already satisfied: blinker<2,>=1.0.0 in /usr/lib/python3/dist-packages (from streamlit) (1.4)\n",
            "Requirement already satisfied: cachetools<6,>=4.0 in /usr/local/lib/python3.10/dist-packages (from streamlit) (5.3.3)\n",
            "Requirement already satisfied: click<9,>=7.0 in /usr/local/lib/python3.10/dist-packages (from streamlit) (8.1.7)\n",
            "Requirement already satisfied: numpy<2,>=1.19.3 in /usr/local/lib/python3.10/dist-packages (from streamlit) (1.25.2)\n",
            "Requirement already satisfied: packaging<25,>=16.8 in /usr/local/lib/python3.10/dist-packages (from streamlit) (24.0)\n",
            "Requirement already satisfied: pandas<3,>=1.3.0 in /usr/local/lib/python3.10/dist-packages (from streamlit) (2.0.3)\n",
            "Requirement already satisfied: pillow<11,>=7.1.0 in /usr/local/lib/python3.10/dist-packages (from streamlit) (9.4.0)\n",
            "Requirement already satisfied: protobuf<5,>=3.20 in /usr/local/lib/python3.10/dist-packages (from streamlit) (3.20.3)\n",
            "Requirement already satisfied: pyarrow>=7.0 in /usr/local/lib/python3.10/dist-packages (from streamlit) (14.0.2)\n",
            "Requirement already satisfied: requests<3,>=2.27 in /usr/local/lib/python3.10/dist-packages (from streamlit) (2.31.0)\n",
            "Requirement already satisfied: rich<14,>=10.14.0 in /usr/local/lib/python3.10/dist-packages (from streamlit) (13.7.1)\n",
            "Requirement already satisfied: tenacity<9,>=8.1.0 in /usr/local/lib/python3.10/dist-packages (from streamlit) (8.2.3)\n",
            "Requirement already satisfied: toml<2,>=0.10.1 in /usr/local/lib/python3.10/dist-packages (from streamlit) (0.10.2)\n",
            "Requirement already satisfied: typing-extensions<5,>=4.3.0 in /usr/local/lib/python3.10/dist-packages (from streamlit) (4.11.0)\n",
            "Collecting gitpython!=3.1.19,<4,>=3.0.7 (from streamlit)\n",
            "  Downloading GitPython-3.1.43-py3-none-any.whl (207 kB)\n",
            "\u001b[2K     \u001b[90m━━━━━━━━━━━━━━━━━━━━━━━━━━━━━━━━━━━━━━━━\u001b[0m \u001b[32m207.3/207.3 kB\u001b[0m \u001b[31m18.3 MB/s\u001b[0m eta \u001b[36m0:00:00\u001b[0m\n",
            "\u001b[?25hCollecting pydeck<1,>=0.8.0b4 (from streamlit)\n",
            "  Downloading pydeck-0.8.1b0-py2.py3-none-any.whl (4.8 MB)\n",
            "\u001b[2K     \u001b[90m━━━━━━━━━━━━━━━━━━━━━━━━━━━━━━━━━━━━━━━━\u001b[0m \u001b[32m4.8/4.8 MB\u001b[0m \u001b[31m26.1 MB/s\u001b[0m eta \u001b[36m0:00:00\u001b[0m\n",
            "\u001b[?25hRequirement already satisfied: tornado<7,>=6.0.3 in /usr/local/lib/python3.10/dist-packages (from streamlit) (6.3.3)\n",
            "Collecting watchdog>=2.1.5 (from streamlit)\n",
            "  Downloading watchdog-4.0.0-py3-none-manylinux2014_x86_64.whl (82 kB)\n",
            "\u001b[2K     \u001b[90m━━━━━━━━━━━━━━━━━━━━━━━━━━━━━━━━━━━━━━━━\u001b[0m \u001b[32m83.0/83.0 kB\u001b[0m \u001b[31m6.1 MB/s\u001b[0m eta \u001b[36m0:00:00\u001b[0m\n",
            "\u001b[?25hRequirement already satisfied: entrypoints in /usr/local/lib/python3.10/dist-packages (from altair<6,>=4.0->streamlit) (0.4)\n",
            "Requirement already satisfied: jinja2 in /usr/local/lib/python3.10/dist-packages (from altair<6,>=4.0->streamlit) (3.1.3)\n",
            "Requirement already satisfied: jsonschema>=3.0 in /usr/local/lib/python3.10/dist-packages (from altair<6,>=4.0->streamlit) (4.19.2)\n",
            "Requirement already satisfied: toolz in /usr/local/lib/python3.10/dist-packages (from altair<6,>=4.0->streamlit) (0.12.1)\n",
            "Collecting gitdb<5,>=4.0.1 (from gitpython!=3.1.19,<4,>=3.0.7->streamlit)\n",
            "  Downloading gitdb-4.0.11-py3-none-any.whl (62 kB)\n",
            "\u001b[2K     \u001b[90m━━━━━━━━━━━━━━━━━━━━━━━━━━━━━━━━━━━━━━━━\u001b[0m \u001b[32m62.7/62.7 kB\u001b[0m \u001b[31m4.9 MB/s\u001b[0m eta \u001b[36m0:00:00\u001b[0m\n",
            "\u001b[?25hRequirement already satisfied: python-dateutil>=2.8.2 in /usr/local/lib/python3.10/dist-packages (from pandas<3,>=1.3.0->streamlit) (2.8.2)\n",
            "Requirement already satisfied: pytz>=2020.1 in /usr/local/lib/python3.10/dist-packages (from pandas<3,>=1.3.0->streamlit) (2023.4)\n",
            "Requirement already satisfied: tzdata>=2022.1 in /usr/local/lib/python3.10/dist-packages (from pandas<3,>=1.3.0->streamlit) (2024.1)\n",
            "Requirement already satisfied: charset-normalizer<4,>=2 in /usr/local/lib/python3.10/dist-packages (from requests<3,>=2.27->streamlit) (3.3.2)\n",
            "Requirement already satisfied: idna<4,>=2.5 in /usr/local/lib/python3.10/dist-packages (from requests<3,>=2.27->streamlit) (3.7)\n",
            "Requirement already satisfied: urllib3<3,>=1.21.1 in /usr/local/lib/python3.10/dist-packages (from requests<3,>=2.27->streamlit) (2.0.7)\n",
            "Requirement already satisfied: certifi>=2017.4.17 in /usr/local/lib/python3.10/dist-packages (from requests<3,>=2.27->streamlit) (2024.2.2)\n",
            "Requirement already satisfied: markdown-it-py>=2.2.0 in /usr/local/lib/python3.10/dist-packages (from rich<14,>=10.14.0->streamlit) (3.0.0)\n",
            "Requirement already satisfied: pygments<3.0.0,>=2.13.0 in /usr/local/lib/python3.10/dist-packages (from rich<14,>=10.14.0->streamlit) (2.16.1)\n",
            "Collecting smmap<6,>=3.0.1 (from gitdb<5,>=4.0.1->gitpython!=3.1.19,<4,>=3.0.7->streamlit)\n",
            "  Downloading smmap-5.0.1-py3-none-any.whl (24 kB)\n",
            "Requirement already satisfied: MarkupSafe>=2.0 in /usr/local/lib/python3.10/dist-packages (from jinja2->altair<6,>=4.0->streamlit) (2.1.5)\n",
            "Requirement already satisfied: attrs>=22.2.0 in /usr/local/lib/python3.10/dist-packages (from jsonschema>=3.0->altair<6,>=4.0->streamlit) (23.2.0)\n",
            "Requirement already satisfied: jsonschema-specifications>=2023.03.6 in /usr/local/lib/python3.10/dist-packages (from jsonschema>=3.0->altair<6,>=4.0->streamlit) (2023.12.1)\n",
            "Requirement already satisfied: referencing>=0.28.4 in /usr/local/lib/python3.10/dist-packages (from jsonschema>=3.0->altair<6,>=4.0->streamlit) (0.34.0)\n",
            "Requirement already satisfied: rpds-py>=0.7.1 in /usr/local/lib/python3.10/dist-packages (from jsonschema>=3.0->altair<6,>=4.0->streamlit) (0.18.0)\n",
            "Requirement already satisfied: mdurl~=0.1 in /usr/local/lib/python3.10/dist-packages (from markdown-it-py>=2.2.0->rich<14,>=10.14.0->streamlit) (0.1.2)\n",
            "Requirement already satisfied: six>=1.5 in /usr/local/lib/python3.10/dist-packages (from python-dateutil>=2.8.2->pandas<3,>=1.3.0->streamlit) (1.16.0)\n",
            "Installing collected packages: watchdog, smmap, pydeck, gitdb, gitpython, streamlit\n",
            "Successfully installed gitdb-4.0.11 gitpython-3.1.43 pydeck-0.8.1b0 smmap-5.0.1 streamlit-1.33.0 watchdog-4.0.0\n",
            "Collecting pyngrok\n",
            "  Downloading pyngrok-7.1.6-py3-none-any.whl (22 kB)\n",
            "Requirement already satisfied: PyYAML>=5.1 in /usr/local/lib/python3.10/dist-packages (from pyngrok) (6.0.1)\n",
            "Installing collected packages: pyngrok\n",
            "Successfully installed pyngrok-7.1.6\n"
          ]
        }
      ],
      "source": [
        "!pip install streamlit"
      ]
    },
    {
      "cell_type": "code",
      "execution_count": null,
      "metadata": {
        "colab": {
          "base_uri": "https://localhost:8080/"
        },
        "id": "pDNN1biiP3BB",
        "outputId": "19aec692-ec77-40ea-da8b-33255ac587da"
      },
      "outputs": [
        {
          "name": "stdout",
          "output_type": "stream",
          "text": [
            "Writing streamlit_app.py\n"
          ]
        }
      ],
      "source": [
        "%%writefile streamlit_app.py\n",
        "import streamlit as st\n",
        "\n",
        "# Assuming 'generate_patient_summary' function is properly defined and imported\n",
        "# from your provided Jupyter notebook.\n",
        "\n",
        "def generate_patient_summary(patient_data):\n",
        "    # Mock function to simulate generating a summary. Replace with your actual function.\n",
        "    return f\"Summary for {patient_data['name']}\"\n",
        "\n",
        "# Streamlit UI components\n",
        "st.title(\"Patient Discharge Summary Generator\")\n",
        "\n",
        "# Input fields for patient data\n",
        "patient_name = st.text_input(\"Patient Name\", \"Enter patient name\")\n",
        "patient_id = st.text_input(\"Patient ID\", \"Enter patient ID\")\n",
        "patient_age = st.text_input(\"Patient Age\", \"Enter patient age\")\n",
        "patient_gender = st.selectbox(\"Patient Gender\", [\"Male\", \"Female\", \"Other\"])\n",
        "\n",
        "# Collecting data into a dictionary\n",
        "patient_data = {\n",
        "    \"name\": patient_name,\n",
        "    \"id\": patient_id,\n",
        "    \"age\": patient_age,\n",
        "    \"gender\": patient_gender\n",
        "}\n",
        "\n",
        "# Button to generate the summary\n",
        "if st.button(\"Generate Discharge Summary\"):\n",
        "    summary = generate_patient_summary(patient_data)\n",
        "    st.text_area(\"Generated Summary\", value=summary, height=300)\n",
        "\n",
        "    # Allow users to edit the summary manually\n",
        "    edited_summary = st.text_area(\"Edit Summary\", value=summary, height=300)\n",
        "\n",
        "    if st.button(\"Save Edited Summary\"):\n",
        "        st.success(\"Summary saved successfully!\")\n",
        "        # Add code here to save the edited summary, such as writing to a file or database\n"
      ]
    },
    {
      "cell_type": "code",
      "execution_count": null,
      "metadata": {
        "colab": {
          "base_uri": "https://localhost:8080/"
        },
        "id": "Gse7gegsS5Ky",
        "outputId": "9108e52d-305c-4056-99f3-a16f87278029"
      },
      "outputs": [
        {
          "name": "stdout",
          "output_type": "stream",
          "text": [
            "\u001b[K\u001b[?25h/tools/node/bin/lt -> /tools/node/lib/node_modules/localtunnel/bin/lt.js\n",
            "\u001b[K\u001b[?25h+ localtunnel@2.0.2\n",
            "added 22 packages from 22 contributors in 2.112s\n"
          ]
        }
      ],
      "source": [
        "!npm install -g localtunnel\n"
      ]
    },
    {
      "cell_type": "code",
      "execution_count": null,
      "metadata": {
        "colab": {
          "base_uri": "https://localhost:8080/"
        },
        "id": "mF4sViBGUkya",
        "outputId": "f8e62f31-9ddc-4a3b-927d-b9e82fa6d204"
      },
      "outputs": [
        {
          "name": "stdout",
          "output_type": "stream",
          "text": [
            "104.196.192.189"
          ]
        }
      ],
      "source": [
        "!curl https://loca.lt/mytunnelpassword"
      ]
    },
    {
      "cell_type": "code",
      "execution_count": null,
      "metadata": {
        "colab": {
          "background_save": true,
          "base_uri": "https://localhost:8080/"
        },
        "id": "Wv7gU5hxP4P_",
        "outputId": "d49faa8a-4f17-49bd-e8cb-3becf86c7ada"
      },
      "outputs": [
        {
          "name": "stdout",
          "output_type": "stream",
          "text": [
            "your url is: https://sour-cougars-grin.loca.lt\n"
          ]
        }
      ],
      "source": [
        "# Run Streamlit in background\n",
        "import os\n",
        "os.system('streamlit run streamlit_app.py &')\n",
        "\n",
        "# Start localtunnel\n",
        "!lt --port 8501\n",
        "!pwd"
      ]
    },
    {
      "cell_type": "code",
      "execution_count": null,
      "metadata": {
        "colab": {
          "base_uri": "https://localhost:8080/"
        },
        "id": "rOduBUDhRhuZ",
        "outputId": "ee005f89-235c-48a6-82a5-1922b813395a"
      },
      "outputs": [
        {
          "name": "stdout",
          "output_type": "stream",
          "text": [
            "app_logs.log\t  data_2.json  data.json     package-lock.json\t streamlit_app.py\n",
            "credentials.json  data_3.json  node_modules  starter_code.ipynb\n"
          ]
        }
      ],
      "source": [
        "!ls"
      ]
    }
  ],
  "metadata": {
    "colab": {
      "provenance": []
    },
    "kernelspec": {
      "display_name": "Python 3",
      "name": "python3"
    },
    "language_info": {
      "name": "python"
    }
  },
  "nbformat": 4,
  "nbformat_minor": 0
}